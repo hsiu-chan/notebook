{
 "cells": [
  {
   "cell_type": "code",
   "execution_count": null,
   "id": "2fe0364d",
   "metadata": {},
   "outputs": [
    {
     "name": "stdout",
     "output_type": "stream",
     "text": [
      "✅ index.html generated successfully at index_local.html!\n"
     ]
    }
   ],
   "source": [
    "from jinja2 import Template\n",
    "import os\n",
    "from datetime import datetime\n",
    "\n",
    "\n",
    "repo_name = \"hsiu-chan/notebook\"  # 替換成你的 repo\n",
    "notes_path = \"notes\"\n",
    "\n",
    "dirs = []\n",
    "\n",
    "for item_name in sorted(os.listdir(notes_path), key=str.lower):\n",
    "        item_path = os.path.join(notes_path, item_name)\n",
    "        if os.path.isdir(item_path):\n",
    "            files = [f for f in os.listdir(item_path) if f.endswith(\".html\")]\n",
    "            files = sorted(files, key=str.lower)\n",
    "            dirs.append({\"name\": item_name, \"files\": [{\"name\": f, \"path\": os.path.join(item_path, f)} for f in files]})\n",
    "\n",
    "# 讀取模板\n",
    "with open(\"templates/index.html\", \"r\", encoding=\"utf-8\") as f:\n",
    "    template_str = f.read()\n",
    "\n",
    "template = Template(template_str)\n",
    "\n",
    "# 生成時間戳\n",
    "generated_time = datetime.now().strftime(\"%Y-%m-%d %H:%M:%S\")\n",
    "\n",
    "# 渲染 HTML\n",
    "html = template.render(dirs=dirs, generated_time=generated_time)\n",
    "\n",
    "# 輸出到 repo 根目錄的 index.html\n",
    "output_path = \"index_local.html\"\n",
    "with open(output_path, \"w\", encoding=\"utf-8\") as f:\n",
    "    f.write(html)\n",
    "\n",
    "print(f\"✅ index_local.html generated successfully at {output_path}!\")\n"
   ]
  }
 ],
 "metadata": {
  "kernelspec": {
   "display_name": "coding",
   "language": "python",
   "name": "python3"
  },
  "language_info": {
   "codemirror_mode": {
    "name": "ipython",
    "version": 3
   },
   "file_extension": ".py",
   "mimetype": "text/x-python",
   "name": "python",
   "nbconvert_exporter": "python",
   "pygments_lexer": "ipython3",
   "version": "3.9.16"
  }
 },
 "nbformat": 4,
 "nbformat_minor": 5
}
