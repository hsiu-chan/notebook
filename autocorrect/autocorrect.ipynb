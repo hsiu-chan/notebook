{
 "cells": [
  {
   "cell_type": "code",
   "execution_count": 1,
   "metadata": {},
   "outputs": [
    {
     "name": "stdout",
     "output_type": "stream",
     "text": [
      "轉換完成！已將 CSV 轉換為 autocorrect.plist\n"
     ]
    }
   ],
   "source": [
    "import csv\n",
    "import plistlib\n",
    "\n",
    "# 設定 CSV 和輸出 plist 文件的檔案名\n",
    "csv_file = 'autocorrect.csv'\n",
    "plist_file = 'autocorrect.plist'\n",
    "\n",
    "# 建立 plist 格式的資料結構\n",
    "entries = []\n",
    "\n",
    "# 讀取 CSV 文件\n",
    "with open(csv_file, newline='', encoding='utf-8') as f:\n",
    "    reader = csv.DictReader(f)\n",
    "    for row in reader:\n",
    "        # 將每一列轉換成 plist 格式需要的 dictionary\n",
    "        entry = {\n",
    "            \"phrase\": row['phrase'],\n",
    "            \"shortcut\": row['abbr']\n",
    "        }\n",
    "        entries.append(entry)\n",
    "\n",
    "# 使用 plistlib 將資料寫入 plist 文件\n",
    "with open(plist_file, 'wb') as fp:\n",
    "    plistlib.dump(entries, fp)\n",
    "\n",
    "print(f\"轉換完成！已將 CSV 轉換為 {plist_file}\")\n"
   ]
  },
  {
   "cell_type": "code",
   "execution_count": 2,
   "metadata": {},
   "outputs": [
    {
     "data": {
      "text/plain": [
       "[{'phrase': ' Necrotizing periodontal diseases ', 'shortcut': 'npd'},\n",
       " {'phrase': ' Prevotella intermedia_Fusobacterium_Treponema_Selenomonas',\n",
       "  'shortcut': 'npdbacterium'},\n",
       " {'phrase': \" '治療步驟：A. 局部麻醉+排膿:透過牙齦溝(explorer\", 'shortcut': 'Pabscess'},\n",
       " {'phrase': \" '治療方式：服用 Acyclovir、擦 Acyclovir 藥膏、姑息治療(控制牙菌斑、給止痛藥、局部麻醉)。成人多採用姑息治療，若是服用 Acyclovir，則孩童劑量為 15mr/kg、成人劑量為200mg/kg。'\",\n",
       "  'shortcut': 'hpv'},\n",
       " {'phrase': ' Porphyromonas gingivalis', 'shortcut': 'pg'},\n",
       " {'phrase': ' Tannerella forsythia ', 'shortcut': 'tf'},\n",
       " {'phrase': ' Treponema denticola', 'shortcut': 'td'},\n",
       " {'phrase': ' Dentogingival fibers Dentoperiosteal fibers Circular fibers Trans-septal gingival fibers',\n",
       "  'shortcut': 'gingivalfiber'},\n",
       " {'phrase': ' Dentogingival fibers Dentoperiosteal fibers Circular fibers Trans-septal gingival fibers',\n",
       "  'shortcut': 'gf'},\n",
       " {'phrase': ' Apical group Alveolar crest group Horizontal group Oblique group',\n",
       "  'shortcut': 'pdlgroup'},\n",
       " {'phrase': ' Gingival sulcus', 'shortcut': 'gs'},\n",
       " {'phrase': ' mucogingival junction ', 'shortcut': 'mgj'},\n",
       " {'phrase': ' Matrix metalloproteinases', 'shortcut': 'mmps'}]"
      ]
     },
     "execution_count": 2,
     "metadata": {},
     "output_type": "execute_result"
    }
   ],
   "source": [
    "entries"
   ]
  },
  {
   "cell_type": "code",
   "execution_count": null,
   "metadata": {},
   "outputs": [],
   "source": []
  }
 ],
 "metadata": {
  "kernelspec": {
   "display_name": "Python 3",
   "language": "python",
   "name": "python3"
  },
  "language_info": {
   "codemirror_mode": {
    "name": "ipython",
    "version": 3
   },
   "file_extension": ".py",
   "mimetype": "text/x-python",
   "name": "python",
   "nbconvert_exporter": "python",
   "pygments_lexer": "ipython3",
   "version": "3.10.8"
  }
 },
 "nbformat": 4,
 "nbformat_minor": 2
}
